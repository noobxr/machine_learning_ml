{
  "nbformat": 4,
  "nbformat_minor": 0,
  "metadata": {
    "colab": {
      "provenance": [],
      "authorship_tag": "ABX9TyMTV86nwmaXUjkwcrRNMM7X",
      "include_colab_link": true
    },
    "kernelspec": {
      "name": "python3",
      "display_name": "Python 3"
    },
    "language_info": {
      "name": "python"
    }
  },
  "cells": [
    {
      "cell_type": "markdown",
      "metadata": {
        "id": "view-in-github",
        "colab_type": "text"
      },
      "source": [
        "<a href=\"https://colab.research.google.com/github/S-cops/machine_Learning/blob/main/Hand_Written_Digit_classification_ipynp.ipynb\" target=\"_parent\"><img src=\"https://colab.research.google.com/assets/colab-badge.svg\" alt=\"Open In Colab\"/></a>"
      ]
    },
    {
      "cell_type": "markdown",
      "source": [
        "#Import Library\n"
      ],
      "metadata": {
        "id": "T-ho-wSSmtfj"
      }
    },
    {
      "cell_type": "code",
      "source": [
        "import pandas as pd\n"
      ],
      "metadata": {
        "id": "T_zbvTl5m3yL"
      },
      "execution_count": null,
      "outputs": []
    },
    {
      "cell_type": "code",
      "source": [
        "import numpy  as np"
      ],
      "metadata": {
        "id": "BPwQXY-qm8hL"
      },
      "execution_count": null,
      "outputs": []
    },
    {
      "cell_type": "code",
      "source": [
        "import matplotlib.pyplot as plt"
      ],
      "metadata": {
        "id": "sgyoWqxQnFX7"
      },
      "execution_count": null,
      "outputs": []
    },
    {
      "cell_type": "code",
      "source": [],
      "metadata": {
        "id": "P7FQyyLcnUfa"
      },
      "execution_count": null,
      "outputs": []
    },
    {
      "cell_type": "markdown",
      "source": [
        "# Import Data\n"
      ],
      "metadata": {
        "id": "iOSQ8nDtnbnD"
      }
    },
    {
      "cell_type": "code",
      "source": [
        "from sklearn.datasets import load_digits"
      ],
      "metadata": {
        "id": "q81_f1W5nfF7"
      },
      "execution_count": null,
      "outputs": []
    },
    {
      "cell_type": "code",
      "source": [
        "df = load_digits()"
      ],
      "metadata": {
        "id": "rigcE3IEnqIs"
      },
      "execution_count": null,
      "outputs": []
    },
    {
      "cell_type": "code",
      "source": [
        "_, axes = plt.subplots(nrows=1, ncols=4, figsize=(10,3))\n",
        "for ax, image, label in zip(axes, df.images, df.target):\n",
        "  ax.set_axis_off()\n",
        "  ax.imshow(image, cmap=plt.cm.gray_r, interpolation=\"nearest\")\n",
        "  ax.set_title(\"Training: %i\" % label)\n"
      ],
      "metadata": {
        "colab": {
          "base_uri": "https://localhost:8080/",
          "height": 227
        },
        "id": "XjmZKtNPnzwT",
        "outputId": "5e1bf772-5b69-4c5c-87ad-ebaacd2f0316"
      },
      "execution_count": null,
      "outputs": [
        {
          "output_type": "display_data",
          "data": {
            "text/plain": [
              "<Figure size 1000x300 with 4 Axes>"
            ],
            "image/png": "[encoded data removed]"
          },
          "metadata": {}
        }
      ]
    },
    {
      "cell_type": "markdown",
      "source": [
        "# Data Preprocessing\n"
      ],
      "metadata": {
        "id": "GrJYBrS-pbUO"
      }
    },
    {
      "cell_type": "code",
      "source": [],
      "metadata": {
        "id": "ZyT658nQpgc1"
      },
      "execution_count": null,
      "outputs": []
    },
    {
      "cell_type": "markdown",
      "source": [
        "**Flatten Image**\n",
        "![p1.png](data:image/png;base64,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)"
      ],
      "metadata": {
        "id": "acqqw5RysRmm"
      }
    },
    {
      "cell_type": "code",
      "source": [
        "df.images.shape"
      ],
      "metadata": {
        "colab": {
          "base_uri": "https://localhost:8080/"
        },
        "id": "jOObutQks5C7",
        "outputId": "e3b263c0-8520-4487-e6ba-9ffcb94a54dd"
      },
      "execution_count": null,
      "outputs": [
        {
          "output_type": "execute_result",
          "data": {
            "text/plain": [
              "(1797, 8, 8)"
            ]
          },
          "metadata": {},
          "execution_count": 11
        }
      ]
    },
    {
      "cell_type": "code",
      "source": [
        "df.images[0]"
      ],
      "metadata": {
        "colab": {
          "base_uri": "https://localhost:8080/"
        },
        "id": "4Qm8GTbotD8Y",
        "outputId": "f84659d4-afce-49dc-e6d4-09d8489f9cf6"
      },
      "execution_count": null,
      "outputs": [
        {
          "output_type": "execute_result",
          "data": {
            "text/plain": [
              "array([[ 0.,  0.,  5., 13.,  9.,  1.,  0.,  0.],\n",
              "       [ 0.,  0., 13., 15., 10., 15.,  5.,  0.],\n",
              "       [ 0.,  3., 15.,  2.,  0., 11.,  8.,  0.],\n",
              "       [ 0.,  4., 12.,  0.,  0.,  8.,  8.,  0.],\n",
              "       [ 0.,  5.,  8.,  0.,  0.,  9.,  8.,  0.],\n",
              "       [ 0.,  4., 11.,  0.,  1., 12.,  7.,  0.],\n",
              "       [ 0.,  2., 14.,  5., 10., 12.,  0.,  0.],\n",
              "       [ 0.,  0.,  6., 13., 10.,  0.,  0.,  0.]])"
            ]
          },
          "metadata": {},
          "execution_count": 12
        }
      ]
    },
    {
      "cell_type": "code",
      "source": [
        "df.images[0].shape"
      ],
      "metadata": {
        "colab": {
          "base_uri": "https://localhost:8080/"
        },
        "id": "K3ssQYZ6tKi7",
        "outputId": "301b393b-d174-45fa-b748-b78a41be2854"
      },
      "execution_count": null,
      "outputs": [
        {
          "output_type": "execute_result",
          "data": {
            "text/plain": [
              "(8, 8)"
            ]
          },
          "metadata": {},
          "execution_count": 13
        }
      ]
    },
    {
      "cell_type": "code",
      "source": [
        "len(df.images)"
      ],
      "metadata": {
        "colab": {
          "base_uri": "https://localhost:8080/"
        },
        "id": "AuE6EPNGtqQn",
        "outputId": "faa61c34-40a4-47e4-e76d-1c3740c3fd22"
      },
      "execution_count": null,
      "outputs": [
        {
          "output_type": "execute_result",
          "data": {
            "text/plain": [
              "1797"
            ]
          },
          "metadata": {},
          "execution_count": 14
        }
      ]
    },
    {
      "cell_type": "code",
      "source": [
        "n_samples = len(df.images)\n",
        "data = df.images.reshape(n_samples, -1)"
      ],
      "metadata": {
        "id": "IIvBzHP1uAhD"
      },
      "execution_count": null,
      "outputs": []
    },
    {
      "cell_type": "code",
      "source": [
        "data[0]"
      ],
      "metadata": {
        "colab": {
          "base_uri": "https://localhost:8080/"
        },
        "id": "ZBoH2zaeuEeR",
        "outputId": "df3b9297-d74b-40ae-fb9b-6e66dd5d75bf"
      },
      "execution_count": null,
      "outputs": [
        {
          "output_type": "execute_result",
          "data": {
            "text/plain": [
              "array([ 0.,  0.,  5., 13.,  9.,  1.,  0.,  0.,  0.,  0., 13., 15., 10.,\n",
              "       15.,  5.,  0.,  0.,  3., 15.,  2.,  0., 11.,  8.,  0.,  0.,  4.,\n",
              "       12.,  0.,  0.,  8.,  8.,  0.,  0.,  5.,  8.,  0.,  0.,  9.,  8.,\n",
              "        0.,  0.,  4., 11.,  0.,  1., 12.,  7.,  0.,  0.,  2., 14.,  5.,\n",
              "       10., 12.,  0.,  0.,  0.,  0.,  6., 13., 10.,  0.,  0.,  0.])"
            ]
          },
          "metadata": {},
          "execution_count": 18
        }
      ]
    },
    {
      "cell_type": "code",
      "source": [
        "data[0].shape"
      ],
      "metadata": {
        "colab": {
          "base_uri": "https://localhost:8080/"
        },
        "id": "tYuYJu56uH7e",
        "outputId": "53c129a2-4cad-4580-a0f3-e8f8d7954551"
      },
      "execution_count": null,
      "outputs": [
        {
          "output_type": "execute_result",
          "data": {
            "text/plain": [
              "(64,)"
            ]
          },
          "metadata": {},
          "execution_count": 19
        }
      ]
    },
    {
      "cell_type": "code",
      "source": [
        "data.shape"
      ],
      "metadata": {
        "colab": {
          "base_uri": "https://localhost:8080/"
        },
        "id": "OvDNVpASuNmz",
        "outputId": "d1bf4838-1783-4d14-f3f9-2b71fc1166cb"
      },
      "execution_count": null,
      "outputs": [
        {
          "output_type": "execute_result",
          "data": {
            "text/plain": [
              "(1797, 64)"
            ]
          },
          "metadata": {},
          "execution_count": 20
        }
      ]
    },
    {
      "cell_type": "markdown",
      "source": [
        "# Scalling Image Data"
      ],
      "metadata": {
        "id": "RC0_uBHevYyY"
      }
    },
    {
      "cell_type": "code",
      "source": [
        "data.min()"
      ],
      "metadata": {
        "colab": {
          "base_uri": "https://localhost:8080/"
        },
        "id": "AAsBRH1Tvdl9",
        "outputId": "d33528df-5745-47ba-8107-96c6666d2dfe"
      },
      "execution_count": null,
      "outputs": [
        {
          "output_type": "execute_result",
          "data": {
            "text/plain": [
              "0.0"
            ]
          },
          "metadata": {},
          "execution_count": 38
        }
      ]
    },
    {
      "cell_type": "code",
      "source": [
        "data.max()"
      ],
      "metadata": {
        "colab": {
          "base_uri": "https://localhost:8080/"
        },
        "id": "6SxdMPpCvp94",
        "outputId": "60aeb897-3fee-4fb7-a56d-9d376a247414"
      },
      "execution_count": null,
      "outputs": [
        {
          "output_type": "execute_result",
          "data": {
            "text/plain": [
              "0.0625"
            ]
          },
          "metadata": {},
          "execution_count": 36
        }
      ]
    },
    {
      "cell_type": "code",
      "source": [
        "data = data/0.0625"
      ],
      "metadata": {
        "id": "p7yftJ5wvztE"
      },
      "execution_count": null,
      "outputs": []
    },
    {
      "cell_type": "code",
      "source": [
        "data.min()"
      ],
      "metadata": {
        "colab": {
          "base_uri": "https://localhost:8080/"
        },
        "id": "H9lUJ64dv5pc",
        "outputId": "05f6c3a3-8c1e-48b8-afe2-e42927c6abb6"
      },
      "execution_count": null,
      "outputs": [
        {
          "output_type": "execute_result",
          "data": {
            "text/plain": [
              "0.0"
            ]
          },
          "metadata": {},
          "execution_count": 39
        }
      ]
    },
    {
      "cell_type": "code",
      "source": [
        "data.max()"
      ],
      "metadata": {
        "colab": {
          "base_uri": "https://localhost:8080/"
        },
        "id": "2Ii_FuNEv7HM",
        "outputId": "671c55b3-0c69-46ec-ab4e-3cc91b5bdd4e"
      },
      "execution_count": null,
      "outputs": [
        {
          "output_type": "execute_result",
          "data": {
            "text/plain": [
              "1.0"
            ]
          },
          "metadata": {},
          "execution_count": 40
        }
      ]
    },
    {
      "cell_type": "code",
      "source": [
        "data[0]"
      ],
      "metadata": {
        "colab": {
          "base_uri": "https://localhost:8080/"
        },
        "id": "DNhICSZYv9Xg",
        "outputId": "ada1a67e-fef0-4475-d2a0-e4d02ce3553b"
      },
      "execution_count": null,
      "outputs": [
        {
          "output_type": "execute_result",
          "data": {
            "text/plain": [
              "array([0.    , 0.    , 0.3125, 0.8125, 0.5625, 0.0625, 0.    , 0.    ,\n",
              "       0.    , 0.    , 0.8125, 0.9375, 0.625 , 0.9375, 0.3125, 0.    ,\n",
              "       0.    , 0.1875, 0.9375, 0.125 , 0.    , 0.6875, 0.5   , 0.    ,\n",
              "       0.    , 0.25  , 0.75  , 0.    , 0.    , 0.5   , 0.5   , 0.    ,\n",
              "       0.    , 0.3125, 0.5   , 0.    , 0.    , 0.5625, 0.5   , 0.    ,\n",
              "       0.    , 0.25  , 0.6875, 0.    , 0.0625, 0.75  , 0.4375, 0.    ,\n",
              "       0.    , 0.125 , 0.875 , 0.3125, 0.625 , 0.75  , 0.    , 0.    ,\n",
              "       0.    , 0.    , 0.375 , 0.8125, 0.625 , 0.    , 0.    , 0.    ])"
            ]
          },
          "metadata": {},
          "execution_count": 41
        }
      ]
    },
    {
      "cell_type": "markdown",
      "source": [
        "# Train Test Split Data"
      ],
      "metadata": {
        "id": "HY59JemkwFGt"
      }
    },
    {
      "cell_type": "code",
      "source": [
        "from sklearn.model_selection import train_test_split"
      ],
      "metadata": {
        "id": "eoYh0UQ3wJGm"
      },
      "execution_count": null,
      "outputs": []
    },
    {
      "cell_type": "code",
      "source": [
        "X_train, X_test, y_train, y_test, = train_test_split(data, df.target, test_size=0.3)"
      ],
      "metadata": {
        "id": "TC2gIMOVwWt8"
      },
      "execution_count": null,
      "outputs": []
    },
    {
      "cell_type": "code",
      "source": [
        "X_train.shape, X_test.shape, y_train.shape, y_test.shape"
      ],
      "metadata": {
        "colab": {
          "base_uri": "https://localhost:8080/"
        },
        "id": "ciQUlTbDwvs-",
        "outputId": "af267c7a-9f1a-4bf2-88b3-6c9509df81be"
      },
      "execution_count": null,
      "outputs": [
        {
          "output_type": "execute_result",
          "data": {
            "text/plain": [
              "((1257, 64), (540, 64), (1257,), (540,))"
            ]
          },
          "metadata": {},
          "execution_count": 45
        }
      ]
    },
    {
      "cell_type": "markdown",
      "source": [
        "# Random Forest Model"
      ],
      "metadata": {
        "id": "y8r1FdH6w-9d"
      }
    },
    {
      "cell_type": "code",
      "source": [
        "from sklearn.ensemble import RandomForestClassifier"
      ],
      "metadata": {
        "id": "gSBFMxNKxF83"
      },
      "execution_count": null,
      "outputs": []
    },
    {
      "cell_type": "code",
      "source": [
        "rf = RandomForestClassifier()"
      ],
      "metadata": {
        "id": "c-gDQYujxUwL"
      },
      "execution_count": null,
      "outputs": []
    },
    {
      "cell_type": "code",
      "source": [
        "rf.fit(X_train, y_train)"
      ],
      "metadata": {
        "colab": {
          "base_uri": "https://localhost:8080/",
          "height": 74
        },
        "id": "KxFNVhQNxX74",
        "outputId": "30f7f009-7398-402d-dc74-2b1e5b03c10d"
      },
      "execution_count": null,
      "outputs": [
        {
          "output_type": "execute_result",
          "data": {
            "text/plain": [
              "RandomForestClassifier()"
            ],
            "text/html": [
              "<style>#sk-container-id-1 {color: black;background-color: white;}#sk-container-id-1 pre{padding: 0;}#sk-container-id-1 div.sk-toggleable {background-color: white;}#sk-container-id-1 label.sk-toggleable__label {cursor: pointer;display: block;width: 100%;margin-bottom: 0;padding: 0.3em;box-sizing: border-box;text-align: center;}#sk-container-id-1 label.sk-toggleable__label-arrow:before {content: \"▸\";float: left;margin-right: 0.25em;color: #696969;}#sk-container-id-1 label.sk-toggleable__label-arrow:hover:before {color: black;}#sk-container-id-1 div.sk-estimator:hover label.sk-toggleable__label-arrow:before {color: black;}#sk-container-id-1 div.sk-toggleable__content {max-height: 0;max-width: 0;overflow: hidden;text-align: left;background-color: #f0f8ff;}#sk-container-id-1 div.sk-toggleable__content pre {margin: 0.2em;color: black;border-radius: 0.25em;background-color: #f0f8ff;}#sk-container-id-1 input.sk-toggleable__control:checked~div.sk-toggleable__content {max-height: 200px;max-width: 100%;overflow: auto;}#sk-container-id-1 input.sk-toggleable__control:checked~label.sk-toggleable__label-arrow:before {content: \"▾\";}#sk-container-id-1 div.sk-estimator input.sk-toggleable__control:checked~label.sk-toggleable__label {background-color: #d4ebff;}#sk-container-id-1 div.sk-label input.sk-toggleable__control:checked~label.sk-toggleable__label {background-color: #d4ebff;}#sk-container-id-1 input.sk-hidden--visually {border: 0;clip: rect(1px 1px 1px 1px);clip: rect(1px, 1px, 1px, 1px);height: 1px;margin: -1px;overflow: hidden;padding: 0;position: absolute;width: 1px;}#sk-container-id-1 div.sk-estimator {font-family: monospace;background-color: #f0f8ff;border: 1px dotted black;border-radius: 0.25em;box-sizing: border-box;margin-bottom: 0.5em;}#sk-container-id-1 div.sk-estimator:hover {background-color: #d4ebff;}#sk-container-id-1 div.sk-parallel-item::after {content: \"\";width: 100%;border-bottom: 1px solid gray;flex-grow: 1;}#sk-container-id-1 div.sk-label:hover label.sk-toggleable__label {background-color: #d4ebff;}#sk-container-id-1 div.sk-serial::before {content: \"\";position: absolute;border-left: 1px solid gray;box-sizing: border-box;top: 0;bottom: 0;left: 50%;z-index: 0;}#sk-container-id-1 div.sk-serial {display: flex;flex-direction: column;align-items: center;background-color: white;padding-right: 0.2em;padding-left: 0.2em;position: relative;}#sk-container-id-1 div.sk-item {position: relative;z-index: 1;}#sk-container-id-1 div.sk-parallel {display: flex;align-items: stretch;justify-content: center;background-color: white;position: relative;}#sk-container-id-1 div.sk-item::before, #sk-container-id-1 div.sk-parallel-item::before {content: \"\";position: absolute;border-left: 1px solid gray;box-sizing: border-box;top: 0;bottom: 0;left: 50%;z-index: -1;}#sk-container-id-1 div.sk-parallel-item {display: flex;flex-direction: column;z-index: 1;position: relative;background-color: white;}#sk-container-id-1 div.sk-parallel-item:first-child::after {align-self: flex-end;width: 50%;}#sk-container-id-1 div.sk-parallel-item:last-child::after {align-self: flex-start;width: 50%;}#sk-container-id-1 div.sk-parallel-item:only-child::after {width: 0;}#sk-container-id-1 div.sk-dashed-wrapped {border: 1px dashed gray;margin: 0 0.4em 0.5em 0.4em;box-sizing: border-box;padding-bottom: 0.4em;background-color: white;}#sk-container-id-1 div.sk-label label {font-family: monospace;font-weight: bold;display: inline-block;line-height: 1.2em;}#sk-container-id-1 div.sk-label-container {text-align: center;}#sk-container-id-1 div.sk-container {/* jupyter's `normalize.less` sets `[hidden] { display: none; }` but bootstrap.min.css set `[hidden] { display: none !important; }` so we also need the `!important` here to be able to override the default hidden behavior on the sphinx rendered scikit-learn.org. See: https://github.com/scikit-learn/scikit-learn/issues/21755 */display: inline-block !important;position: relative;}#sk-container-id-1 div.sk-text-repr-fallback {display: none;}</style><div id=\"sk-container-id-1\" class=\"sk-top-container\"><div class=\"sk-text-repr-fallback\"><pre>RandomForestClassifier()</pre><b>In a Jupyter environment, please rerun this cell to show the HTML representation or trust the notebook. <br />On GitHub, the HTML representation is unable to render, please try loading this page with nbviewer.org.</b></div><div class=\"sk-container\" hidden><div class=\"sk-item\"><div class=\"sk-estimator sk-toggleable\"><input class=\"sk-toggleable__control sk-hidden--visually\" id=\"sk-estimator-id-1\" type=\"checkbox\" checked><label for=\"sk-estimator-id-1\" class=\"sk-toggleable__label sk-toggleable__label-arrow\">RandomForestClassifier</label><div class=\"sk-toggleable__content\"><pre>RandomForestClassifier()</pre></div></div></div></div></div>"
            ]
          },
          "metadata": {},
          "execution_count": 48
        }
      ]
    },
    {
      "cell_type": "markdown",
      "source": [
        "# Predict Test Data"
      ],
      "metadata": {
        "id": "hK8XefQRxkxk"
      }
    },
    {
      "cell_type": "code",
      "source": [
        "y_pred = rf.predict(X_test)"
      ],
      "metadata": {
        "id": "flt9tTg4xpBO"
      },
      "execution_count": null,
      "outputs": []
    },
    {
      "cell_type": "code",
      "source": [
        "y_pred"
      ],
      "metadata": {
        "colab": {
          "base_uri": "https://localhost:8080/"
        },
        "id": "DX3z1pNmxx_N",
        "outputId": "a30fe80e-94a2-4189-b3b2-8752f8dc5985"
      },
      "execution_count": null,
      "outputs": [
        {
          "output_type": "execute_result",
          "data": {
            "text/plain": [
              "array([5, 2, 7, 7, 6, 9, 7, 1, 2, 8, 4, 4, 1, 8, 1, 4, 6, 8, 5, 4, 3, 8,\n",
              "       0, 3, 6, 8, 0, 7, 4, 0, 9, 1, 3, 3, 1, 2, 7, 0, 6, 7, 1, 2, 2, 4,\n",
              "       9, 1, 0, 3, 1, 6, 7, 5, 4, 9, 5, 9, 9, 6, 4, 9, 2, 2, 2, 7, 8, 8,\n",
              "       1, 9, 8, 4, 9, 0, 2, 7, 3, 0, 2, 4, 4, 1, 6, 6, 0, 4, 4, 7, 7, 0,\n",
              "       5, 8, 9, 8, 7, 7, 3, 6, 0, 8, 2, 9, 1, 3, 4, 4, 1, 6, 1, 9, 8, 1,\n",
              "       2, 2, 0, 9, 6, 7, 9, 5, 5, 1, 7, 5, 0, 3, 4, 3, 9, 4, 0, 2, 6, 4,\n",
              "       6, 9, 1, 7, 9, 4, 3, 7, 4, 1, 8, 5, 6, 5, 0, 1, 7, 2, 8, 7, 4, 2,\n",
              "       7, 4, 9, 5, 9, 9, 0, 0, 0, 1, 8, 1, 5, 7, 5, 0, 4, 4, 3, 5, 3, 9,\n",
              "       1, 1, 0, 9, 6, 9, 7, 0, 6, 1, 9, 6, 2, 7, 5, 2, 3, 4, 8, 3, 8, 4,\n",
              "       4, 1, 2, 2, 8, 2, 1, 2, 9, 9, 7, 5, 9, 6, 3, 0, 3, 0, 5, 5, 5, 8,\n",
              "       3, 3, 9, 1, 1, 1, 2, 9, 1, 2, 2, 8, 8, 3, 5, 0, 5, 7, 4, 2, 3, 7,\n",
              "       0, 4, 2, 4, 9, 7, 9, 6, 9, 0, 8, 4, 9, 7, 6, 8, 5, 6, 8, 6, 9, 4,\n",
              "       2, 4, 8, 1, 7, 0, 5, 3, 3, 8, 9, 4, 4, 0, 9, 5, 0, 8, 1, 2, 8, 2,\n",
              "       2, 3, 2, 2, 6, 4, 0, 1, 9, 1, 8, 7, 3, 0, 0, 6, 8, 8, 4, 7, 9, 4,\n",
              "       4, 8, 4, 4, 2, 4, 0, 2, 6, 9, 2, 8, 6, 3, 5, 8, 8, 8, 0, 1, 4, 3,\n",
              "       4, 9, 4, 7, 1, 4, 5, 4, 2, 9, 0, 5, 7, 0, 3, 5, 7, 4, 3, 0, 0, 8,\n",
              "       8, 3, 8, 9, 7, 6, 8, 1, 8, 7, 1, 7, 7, 4, 8, 9, 9, 9, 2, 0, 9, 9,\n",
              "       1, 4, 0, 7, 7, 0, 5, 6, 8, 4, 4, 3, 5, 7, 5, 3, 0, 5, 8, 1, 8, 1,\n",
              "       9, 6, 0, 5, 0, 5, 8, 1, 7, 0, 7, 0, 2, 2, 5, 3, 6, 1, 5, 2, 8, 3,\n",
              "       7, 9, 5, 4, 4, 6, 7, 9, 1, 1, 4, 4, 5, 1, 9, 4, 2, 1, 0, 3, 9, 9,\n",
              "       7, 6, 2, 6, 2, 4, 3, 4, 1, 8, 6, 3, 1, 9, 3, 3, 5, 0, 4, 3, 5, 7,\n",
              "       0, 1, 2, 4, 9, 3, 6, 5, 6, 8, 5, 2, 4, 6, 5, 7, 2, 9, 0, 4, 4, 3,\n",
              "       1, 0, 1, 7, 5, 2, 3, 8, 0, 1, 3, 8, 9, 0, 0, 7, 4, 4, 7, 9, 0, 1,\n",
              "       5, 8, 4, 7, 8, 0, 4, 9, 1, 6, 6, 8, 2, 6, 9, 2, 1, 5, 9, 8, 7, 8,\n",
              "       2, 4, 0, 0, 8, 3, 1, 6, 6, 4, 5, 0])"
            ]
          },
          "metadata": {},
          "execution_count": 50
        }
      ]
    },
    {
      "cell_type": "markdown",
      "source": [
        "# Model Accuracy"
      ],
      "metadata": {
        "id": "IIgQbXE9x4Zz"
      }
    },
    {
      "cell_type": "code",
      "source": [
        "from sklearn.metrics import confusion_matrix, classification_report"
      ],
      "metadata": {
        "id": "1aEDO-4kx85s"
      },
      "execution_count": null,
      "outputs": []
    },
    {
      "cell_type": "code",
      "source": [
        "confusion_matrix(y_test, y_pred)"
      ],
      "metadata": {
        "colab": {
          "base_uri": "https://localhost:8080/"
        },
        "id": "KNJZjiEWyI9m",
        "outputId": "bdae636d-855b-4089-91a7-1e7da19cd474"
      },
      "execution_count": null,
      "outputs": [
        {
          "output_type": "execute_result",
          "data": {
            "text/plain": [
              "array([[58,  0,  0,  0,  1,  0,  0,  0,  0,  0],\n",
              "       [ 0, 55,  0,  0,  0,  0,  0,  0,  1,  0],\n",
              "       [ 0,  0, 51,  0,  0,  0,  0,  0,  0,  0],\n",
              "       [ 0,  0,  0, 44,  0,  0,  0,  0,  0,  1],\n",
              "       [ 0,  0,  0,  0, 68,  0,  0,  0,  0,  0],\n",
              "       [ 0,  0,  0,  1,  0, 47,  0,  0,  0,  0],\n",
              "       [ 0,  0,  0,  0,  0,  0, 42,  0,  0,  0],\n",
              "       [ 0,  0,  0,  0,  0,  0,  0, 53,  0,  0],\n",
              "       [ 0,  1,  0,  0,  1,  0,  0,  0, 54,  0],\n",
              "       [ 0,  0,  0,  0,  0,  0,  0,  0,  2, 60]])"
            ]
          },
          "metadata": {},
          "execution_count": 52
        }
      ]
    },
    {
      "cell_type": "code",
      "source": [
        "print(classification_report(y_test, y_pred))"
      ],
      "metadata": {
        "colab": {
          "base_uri": "https://localhost:8080/"
        },
        "id": "osV4-UKsyPIk",
        "outputId": "94f91198-5923-4977-dd3d-0dc367822262"
      },
      "execution_count": null,
      "outputs": [
        {
          "output_type": "stream",
          "name": "stdout",
          "text": [
            "              precision    recall  f1-score   support\n",
            "\n",
            "           0       1.00      0.98      0.99        59\n",
            "           1       0.98      0.98      0.98        56\n",
            "           2       1.00      1.00      1.00        51\n",
            "           3       0.98      0.98      0.98        45\n",
            "           4       0.97      1.00      0.99        68\n",
            "           5       1.00      0.98      0.99        48\n",
            "           6       1.00      1.00      1.00        42\n",
            "           7       1.00      1.00      1.00        53\n",
            "           8       0.95      0.96      0.96        56\n",
            "           9       0.98      0.97      0.98        62\n",
            "\n",
            "    accuracy                           0.99       540\n",
            "   macro avg       0.99      0.99      0.99       540\n",
            "weighted avg       0.99      0.99      0.99       540\n",
            "\n"
          ]
        }
      ]
    }
  ]
}